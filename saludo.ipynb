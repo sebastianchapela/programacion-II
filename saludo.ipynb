print("ahora_PULL")
mi_lista ("primario", "secundario","terciario")
print(mi_lista)


